{
 "cells": [
  {
   "cell_type": "markdown",
   "id": "9ee5ee4d-6f35-4354-832a-bfbe6da6bc6c",
   "metadata": {},
   "source": [
    "### Algoritmos VQE\n",
    "\n",
    "Marzo 2023,\n",
    "\n",
    "\n",
    "Las técnicas VQE se usan ampliamente en computación cuántica de sistemas químicos para obtener los autovalores del hamiltoniano de los sistemas modelados.\n",
    "\n",
    "También se utilizan ampliamente en problemas de optimización usando técnicas clásicas de ML y algoritmos con circuitos cuánticos variacionales.  \n",
    "\n",
    "La optimización consistirá en obtener el valor de energía mínimo de un sistema, caracterizado por un hamiltoniano\n",
    "\n",
    "Cuando el estado del sistema es un autovector, o una combinación lineal de autovectores (si es un estado degenerado), con autovalor λi mínimo, la energía mínima es simplemnente el valor esperado del hamiltoniano <H>\n",
    "\n",
    "El papel del circuito variacional es crítico: deberá hacer evolucionar al sistema desde  el estado inicial a este estado especial con autovalor mínimo.\n",
    "    \n",
    "- Update a los recursos de librería de  Qiskit\n",
    "\n",
    "https://qiskit.org/documentation/stable/0.19/stubs/qiskit.aqua.components.optimizers.SLSQP.html\n",
    "https://medium.com/qiskit/introducing-qiskit-algorithms-with-qiskit-runtime-primitives-d89703ecfca3"
   ]
  },
  {
   "cell_type": "markdown",
   "id": "44329877-beb8-46c1-b4ce-2f4685633d7d",
   "metadata": {},
   "source": [
    "Se han producido importantes cambios en los recursos ML, finanzas y ciencia de QISKIT trás la obsolescencia de qiskit.aqua\n",
    "\n",
    "En el caso del algoritmo VQE actualizado, ahora se usa un estimador en lugar de una instancia cuántica, y SparsePauliOp en lugar de PauliSumOp (aunque PauliSumOp seguirá siendo compatible). En todo caso SparsePauliOp es más eficiente"
   ]
  },
  {
   "cell_type": "markdown",
   "id": "b8e0d74f-7a30-45e5-99db-060fd02f4e6f",
   "metadata": {},
   "source": [
    "Documentación SparsePauliOp (PauliSumOp obsoleto)\n",
    "\n",
    "https://qiskit.org/documentation/stubs/qiskit.opflow.primitive_ops.PauliSumOp.html\n",
    "\n",
    "Documentación VQE\n",
    "\n",
    "https://qiskit.org/documentation/stubs/qiskit.algorithms.VQE.html\n",
    "\n",
    "Documentación Twolocal\n",
    "\n",
    "https://qiskit.org/documentation/stubs/qiskit.circuit.library.TwoLocal.html"
   ]
  },
  {
   "cell_type": "code",
   "execution_count": 1,
   "id": "c67a2ed5-7fed-4ede-a128-cdb5152153c5",
   "metadata": {},
   "outputs": [],
   "source": [
    "from qiskit.circuit import QuantumCircuit\n",
    "from qiskit.algorithms.minimum_eigensolvers import VQE \n",
    "from qiskit.algorithms.optimizers import SLSQP,COBYLA \n",
    "from qiskit.circuit.library import TwoLocal \n",
    "from qiskit.quantum_info import SparsePauliOp \n",
    "from qiskit.primitives import Estimator\n",
    "from qiskit.opflow import I, X, Y, Z"
   ]
  },
  {
   "cell_type": "markdown",
   "id": "6e66506d-4661-4c76-bef9-03fb2b0aaac2",
   "metadata": {},
   "source": [
    "#### Funciones auxiliares para manipular productos tensoriales de Pauli"
   ]
  },
  {
   "cell_type": "code",
   "execution_count": 2,
   "id": "2420b1be-41e8-45ef-96c1-e3d7cdce5f6b",
   "metadata": {},
   "outputs": [],
   "source": [
    "import numpy as np\n",
    "from collections import defaultdict\n",
    "from functools import reduce\n",
    "from itertools import product"
   ]
  },
  {
   "cell_type": "code",
   "execution_count": 3,
   "id": "a826e8e8-f40c-41dd-8120-9cb7d858c659",
   "metadata": {},
   "outputs": [],
   "source": [
    "# Genera diccionario con los productos tensoriales de Pauli\n",
    "def hamiltonian_to_paulis(H):\n",
    "    \n",
    "    PAULIS = {\n",
    "    \"I\": np.eye(2, dtype=complex),\n",
    "    \"X\": np.array([[0, 1], [1, 0]], dtype=complex),\n",
    "    \"Y\": np.array([[0, -1j], [1j, 0]], dtype=complex),\n",
    "    \"Z\": np.array([[1, 0], [0, -1]], dtype=complex),\n",
    "    }\n",
    "    \n",
    "    n = int(np.log2(len(H)))\n",
    "    dims = 2 ** n\n",
    "\n",
    "    if H.shape != (dims, dims):\n",
    "        raise ValueError(\"La entrada debe de ser una matriz de dim 2^n x 2^n\")\n",
    "\n",
    "    clave_dic= [\"\".join(k) for k in product(PAULIS.keys(), repeat=n)]\n",
    "    \n",
    "    diccionario = defaultdict(int)\n",
    "\n",
    "    for i, val in enumerate(product(PAULIS.values(), repeat=n)):\n",
    "        base_mat = reduce(np.kron, val)\n",
    "        coef = H.reshape(-1).dot(base_mat.reshape(-1)) / dims\n",
    "        coef = np.real_if_close(coef).item()\n",
    "        \n",
    "        if not np.allclose(coef, 0):\n",
    "            diccionario[clave_dic[i]] = coef\n",
    "\n",
    "    return diccionario\n",
    "\n",
    "# Convierte el diccionario de Paulis en lista para ser usada con `SparsePauliOp.from_list`\n",
    "def dic_to_list(dic_paulis):\n",
    "    lista=[]\n",
    "    for clave in dic_paulis:\n",
    "        lista.append((clave,dic_paulis[clave]))\n",
    "    return(lista)"
   ]
  },
  {
   "cell_type": "markdown",
   "id": "3998bcb5-947a-4465-8515-6fb8d25892f5",
   "metadata": {},
   "source": [
    "### Hamiltoniano y ansatz"
   ]
  },
  {
   "cell_type": "markdown",
   "id": "4c085931-bf58-4bf8-87a3-fd64987a6317",
   "metadata": {},
   "source": [
    "### CNOT\n",
    "\n",
    "Imaginemos un circuito cuántico compuesto por dos qubits, donde queremos implementar la compuerta CNOT controlada por el primer qubit y el segundo qubit como objetivo. El Hamiltoniano correspondiente a este problema es:\n",
    "\n",
    "$$ H = \\frac{1}{2} (\\mathbb{1} + Z_1) \\otimes \\mathbb{1} + \\frac{1}{2} ( \\mathbb{1} - Z_1) \\otimes X_2 $$\n",
    "\n",
    "Donde $\\mathbb{1}$ es la matriz identidad de $2\\times2$ y $X_i, Y_i, Z_i$ son los operadores de Pauli correspondientes al qubit $i$.\n",
    "\n",
    "Podemos expresar este Hamiltoniano como una suma de tensores de Pauli de la siguiente manera:\n",
    "\n",
    "$$ H = \\frac{1}{2} \\left( \\mathbb{1} \\otimes \\mathbb{1} + Z_1 \\otimes \\mathbb{1} + \\mathbb{1} \\otimes X_2 - Z_1 \\otimes X_2 \\right) $$\n",
    "\n",
    "Aquí cada término del Hamiltoniano es un tensor de Pauli de orden 2, es decir, un producto tensorial de dos operadores de Pauli. Además, se puede comprobar fácilmente que este Hamiltoniano tiene los autovalores $\\pm 1$, lo que indica que es un Hamiltoniano bien definido.\n",
    "\n",
    "En este caso, el primer término corresponde a la energía del estado base, mientras que los otros tres términos corresponden a la energía de los estados excitados. La implementación del Hamiltoniano correspondiente a este problema en una computadora cuántica nos permitiría realizar la compuerta CNOT controlada por el primer qubit y el segundo qubit como objetivo."
   ]
  },
  {
   "cell_type": "markdown",
   "id": "ad57af12-f056-4f46-8304-1711fad4b144",
   "metadata": {},
   "source": [
    "El análisi algebraico de la expresión matricial de este operador proporciona los  valores propios: λ1 = 1, de multiplicidad 3, λ2 = -1, y vectores propios normalizados:\n",
    "\n",
    "λ1 = 1\n",
    "\n",
    "    |v1⟩ = |00⟩        = (0.71,0,0,0)\n",
    "    |v2⟩ = |01⟩        = (0,0.71,0,0)\n",
    "    |v3> = |10>+|11>   = (0,0,0.71,0.71)\n",
    "\n",
    "λ2 = -1\n",
    "\n",
    "    |v4⟩ = |11⟩ - |10⟩ = (0,0,-0.71,0,71)\n",
    "    \n",
    "\n",
    "El papel del circuito ansatz será hacer evolucionar al sistema desde el estado inicial |00⟩ a |v4⟩ con λ2 = -1, de modo que se tenga:\n",
    "\n",
    "            H|v4> = -|v4> = (0,0,0.71,-0,71)\n",
    "            <H>= <CNOT> = -1"
   ]
  },
  {
   "cell_type": "code",
   "execution_count": 4,
   "id": "9fdf2e69-77c9-4e40-89b1-5f97610fae08",
   "metadata": {},
   "outputs": [
    {
     "name": "stdout",
     "output_type": "stream",
     "text": [
      "Operador matricial:\n",
      "[[1.+0.j 0.+0.j 0.+0.j 0.+0.j]\n",
      " [0.+0.j 1.+0.j 0.+0.j 0.+0.j]\n",
      " [0.+0.j 0.+0.j 0.+0.j 1.+0.j]\n",
      " [0.+0.j 0.+0.j 1.+0.j 0.+0.j]]\n",
      "\n",
      "lista de tuplas de tensores Pauli\n",
      "[('II', 0.5), ('IX', 0.5), ('ZI', 0.5), ('ZX', -0.5)]\n"
     ]
    }
   ],
   "source": [
    "# toy Ham = CNOT\n",
    "H=np.array([[1,0,0,0], [0,1,0,0],[0,0,0,1], [0,0,1,0]],dtype=complex)\n",
    "\n",
    "# CNOT equivalente circuital qiskit\n",
    "#H=np.array([[1,0,0,0], [0,0,0,1],[0,0,1,0], [0,1,0,0]],dtype=complex)\n",
    "\n",
    "print('Operador matricial:')\n",
    "print(H)\n",
    "\n",
    "dic_paulis=hamiltonian_to_paulis(H)\n",
    "lista_paulis=dic_to_list(dic_paulis)\n",
    "\n",
    "print('\\nlista de tuplas de tensores Pauli')\n",
    "print(lista_paulis)"
   ]
  },
  {
   "cell_type": "code",
   "execution_count": 5,
   "id": "65debea7-87f0-461d-8169-157c4d2e905c",
   "metadata": {},
   "outputs": [
    {
     "name": "stdout",
     "output_type": "stream",
     "text": [
      "SparsePauliOp(['II', 'IX', 'ZI', 'ZX'],\n",
      "              coeffs=[ 0.5+0.j,  0.5+0.j,  0.5+0.j, -0.5+0.j])\n"
     ]
    }
   ],
   "source": [
    "# Hamiltoniano en sumandos de tensores de Pauli en clase SparsePauliOp\n",
    "ham= SparsePauliOp.from_list(lista_paulis) \n",
    "print(ham)"
   ]
  },
  {
   "cell_type": "code",
   "execution_count": 6,
   "id": "3cbc0503-e0f0-4b2f-89bb-ca8eb3347cd2",
   "metadata": {},
   "outputs": [
    {
     "data": {
      "text/plain": [
       "array([[1.+0.j, 0.+0.j, 0.+0.j, 0.+0.j],\n",
       "       [0.+0.j, 1.+0.j, 0.+0.j, 0.+0.j],\n",
       "       [0.+0.j, 0.+0.j, 0.+0.j, 1.+0.j],\n",
       "       [0.+0.j, 0.+0.j, 1.+0.j, 0.+0.j]])"
      ]
     },
     "execution_count": 6,
     "metadata": {},
     "output_type": "execute_result"
    }
   ],
   "source": [
    "# Comprobación de que se ha sintetizado una CNOT\n",
    "hmatrix=ham.to_matrix()\n",
    "hmatrix"
   ]
  },
  {
   "cell_type": "markdown",
   "id": "e05d6d92-dac3-4359-89ca-bb612cc4bb9d",
   "metadata": {},
   "source": [
    "### Ansatz\n",
    "\n",
    "La elección del circuito paramétrico que usará el algoritmo variacional es fundamental ya que de su adaptabilidad  dependerá la velocidad de convergencia VQE.\n",
    "\n",
    "Se usará un ansatz Twolocal con la siguiente arquitectura:\n",
    "\n",
    "Qbits:2\n",
    "Capas: 2 (número de veces que se repite.\n",
    "Bloques de entidarelazamiento: 1 (CX)\n",
    "Puertas de rotación: 2 (Ry,Ry)\n",
    "\n",
    "La \"finura\" variacional queda determinada por la cantidad de parámetros del ansatz:\n",
    "\n",
    "θi = qbits*Npuertas_rotación(capas + 1)\n",
    "\n",
    "θi = 2*2(2+1) = 12\n",
    "\n",
    "#### Documentación Twolocal\n",
    "\n",
    "https://qiskit.org/documentation/stubs/qiskit.circuit.library.TwoLocal.html"
   ]
  },
  {
   "cell_type": "code",
   "execution_count": 7,
   "id": "16e057a1-2c70-4c2c-8fdc-df27907cd904",
   "metadata": {},
   "outputs": [
    {
     "name": "stdout",
     "output_type": "stream",
     "text": [
      "     ┌──────────┐┌──────────┐ ░       ░ ┌──────────┐┌──────────┐ ░       ░ »\n",
      "q_0: ┤ Ry(θ[0]) ├┤ Ry(θ[2]) ├─░───■───░─┤ Ry(θ[4]) ├┤ Ry(θ[6]) ├─░───■───░─»\n",
      "     ├──────────┤├──────────┤ ░ ┌─┴─┐ ░ ├──────────┤├──────────┤ ░ ┌─┴─┐ ░ »\n",
      "q_1: ┤ Ry(θ[1]) ├┤ Ry(θ[3]) ├─░─┤ X ├─░─┤ Ry(θ[5]) ├┤ Ry(θ[7]) ├─░─┤ X ├─░─»\n",
      "     └──────────┘└──────────┘ ░ └───┘ ░ └──────────┘└──────────┘ ░ └───┘ ░ »\n",
      "«     ┌──────────┐┌───────────┐\n",
      "«q_0: ┤ Ry(θ[8]) ├┤ Ry(θ[10]) ├\n",
      "«     ├──────────┤├───────────┤\n",
      "«q_1: ┤ Ry(θ[9]) ├┤ Ry(θ[11]) ├\n",
      "«     └──────────┘└───────────┘\n"
     ]
    }
   ],
   "source": [
    "ansatz = TwoLocal(2, rotation_blocks=['ry', 'ry'],reps=2, insert_barriers=True, entanglement_blocks='cx') \n",
    "\n",
    "print(ansatz.decompose().draw())"
   ]
  },
  {
   "cell_type": "code",
   "execution_count": 8,
   "id": "13349648-f2b4-4b8e-bc31-48d69fba0f89",
   "metadata": {},
   "outputs": [
    {
     "data": {
      "text/plain": [
       "qiskit.circuit.library.n_local.two_local.TwoLocal"
      ]
     },
     "execution_count": 8,
     "metadata": {},
     "output_type": "execute_result"
    }
   ],
   "source": [
    "type(ansatz)"
   ]
  },
  {
   "cell_type": "markdown",
   "id": "6e7d8535-205c-439b-9a6c-82d15e4be1a0",
   "metadata": {},
   "source": [
    "## VQE\n",
    "\n",
    "Optimizadores:\n",
    "\n",
    "https://qiskit.org/documentation/stubs/qiskit.algorithms.optimizers.html"
   ]
  },
  {
   "cell_type": "code",
   "execution_count": 9,
   "id": "63055989-441a-401e-b062-008a11088038",
   "metadata": {},
   "outputs": [],
   "source": [
    "# quantum_instance = BasicAer.get_backend(“statevector_simulator”) -> obsoleto\n",
    "estimador = Estimator() \n",
    "optimizer = COBYLA()\n",
    "\n",
    "vqe = VQE(estimador, ansatz, optimizer) \n",
    "result = vqe.compute_minimum_eigenvalue(operator=ham) "
   ]
  },
  {
   "cell_type": "code",
   "execution_count": 10,
   "id": "d1cf6aa7-e489-487c-ac1a-9dfd87a4d27b",
   "metadata": {},
   "outputs": [
    {
     "name": "stdout",
     "output_type": "stream",
     "text": [
      "Iteraciones: 161\n",
      "Valor mínimo: -1.0\n"
     ]
    }
   ],
   "source": [
    "print('Iteraciones:',result.cost_function_evals)\n",
    "print(\"Valor mínimo:\",round(result.eigenvalue,3))\n"
   ]
  },
  {
   "cell_type": "code",
   "execution_count": 11,
   "id": "8121bb45-449a-480d-861a-21858266c424",
   "metadata": {},
   "outputs": [
    {
     "name": "stdout",
     "output_type": "stream",
     "text": [
      "Parámetros óptimos:\n",
      "θ[0] -3.181\n",
      "θ[1] -0.6\n",
      "θ[2] -4.371\n",
      "θ[3] -0.797\n",
      "θ[4] -0.157\n",
      "θ[5] 3.755\n",
      "θ[6] 5.501\n",
      "θ[7] 2.93\n",
      "θ[8] -3.386\n",
      "θ[9] -4.81\n",
      "θ[10] 2.179\n",
      "θ[11] -3.526\n"
     ]
    }
   ],
   "source": [
    "param_opt=result.optimal_parameters\n",
    "print(\"Parámetros óptimos:\")\n",
    "for clave in param_opt:\n",
    "    print(clave,round(param_opt[clave],3))"
   ]
  },
  {
   "cell_type": "code",
   "execution_count": 12,
   "id": "efc90f53-d53e-4105-80d9-b92f9a653471",
   "metadata": {},
   "outputs": [
    {
     "data": {
      "image/png": "[encoded data removed]",
      "text/plain": [
       "<Figure size 1959.52x200.667 with 1 Axes>"
      ]
     },
     "execution_count": 12,
     "metadata": {},
     "output_type": "execute_result"
    }
   ],
   "source": [
    "cir=[ansatz.bind_parameters(param_opt)][-1]\n",
    "\n",
    "cir.decompose().draw('mpl')"
   ]
  },
  {
   "cell_type": "markdown",
   "id": "1e0ac94b-d307-4eb4-8d6f-b8117323f729",
   "metadata": {},
   "source": [
    "### Obtención de vectores de estado\n",
    "\n",
    "- Síntesis del circuito ansatz\n",
    "- Incorporar circuito hamiltoniano a partir de su representación matricial\n",
    "- Simular"
   ]
  },
  {
   "cell_type": "code",
   "execution_count": 13,
   "id": "7108d853-236d-4bfa-b2c9-912a67297ec9",
   "metadata": {},
   "outputs": [],
   "source": [
    "from qiskit.quantum_info import Statevector\n",
    "from qiskit.quantum_info.operators import Operator\n",
    "from qiskit.visualization import array_to_latex"
   ]
  },
  {
   "cell_type": "code",
   "execution_count": 14,
   "id": "6effeedb-6538-4414-8034-ac8918ccb79d",
   "metadata": {},
   "outputs": [
    {
     "data": {
      "text/plain": [
       "array([[-0.  +0.j, -0.16+0.j, -0.09+0.j,  0.98+0.j],\n",
       "       [ 0.  +0.j, -0.36+0.j, -0.92+0.j, -0.14+0.j],\n",
       "       [-0.71+0.j, -0.65+0.j,  0.26+0.j, -0.08+0.j],\n",
       "       [ 0.71+0.j, -0.65+0.j,  0.26+0.j, -0.08+0.j]])"
      ]
     },
     "execution_count": 14,
     "metadata": {},
     "output_type": "execute_result"
    }
   ],
   "source": [
    "oper_ansatz=np.round(Operator(cir),2)\n",
    "oper_ansatz"
   ]
  },
  {
   "cell_type": "code",
   "execution_count": 15,
   "id": "e5a97e9f-9dcc-4e00-b5f7-c4ff5ac4ec45",
   "metadata": {},
   "outputs": [
    {
     "data": {
      "image/png": "[encoded data removed]",
      "text/plain": [
       "<Figure size 2210.35x451.5 with 1 Axes>"
      ]
     },
     "execution_count": 15,
     "metadata": {},
     "output_type": "execute_result"
    }
   ],
   "source": [
    "# Obtención de los vectores de estado intermedios y final\n",
    "\n",
    "SVansatz = np.round(Statevector.from_instruction(cir),3) \n",
    "cir.unitary(ham.to_matrix(), [0, 1],'ham')\n",
    "SVham = np.round(Statevector.from_instruction(cir),3)\n",
    "cir.draw('mpl')\n"
   ]
  },
  {
   "cell_type": "markdown",
   "id": "024d2c50-dd19-4a4d-972b-4bc359c35a12",
   "metadata": {},
   "source": [
    "#### Estado que sintetiza el ansatz"
   ]
  },
  {
   "cell_type": "code",
   "execution_count": 16,
   "id": "abe1d5a7-379c-41a4-bb34-2622fb1ee7ce",
   "metadata": {},
   "outputs": [
    {
     "data": {
      "text/latex": [
       "$$\n",
       "\n",
       "\\begin{bmatrix}\n",
       "0 & 0 & -0.707 & 0.707  \\\\\n",
       " \\end{bmatrix}\n",
       "$$"
      ],
      "text/plain": [
       "<IPython.core.display.Latex object>"
      ]
     },
     "execution_count": 16,
     "metadata": {},
     "output_type": "execute_result"
    }
   ],
   "source": [
    "array_to_latex(SVansatz)"
   ]
  },
  {
   "cell_type": "markdown",
   "id": "df3e48b0-9bd7-441a-bca2-93a4e9b84271",
   "metadata": {},
   "source": [
    "#### Estado final que fuerza el hamiltoniano"
   ]
  },
  {
   "cell_type": "code",
   "execution_count": 17,
   "id": "88b5c73b-5fe0-42e7-9161-8ec943d9c4b2",
   "metadata": {},
   "outputs": [
    {
     "data": {
      "text/latex": [
       "$$\n",
       "\n",
       "\\begin{bmatrix}\n",
       "0 & 0 & 0.707 & -0.707  \\\\\n",
       " \\end{bmatrix}\n",
       "$$"
      ],
      "text/plain": [
       "<IPython.core.display.Latex object>"
      ]
     },
     "execution_count": 17,
     "metadata": {},
     "output_type": "execute_result"
    }
   ],
   "source": [
    "array_to_latex(SVham)"
   ]
  },
  {
   "cell_type": "markdown",
   "id": "ab6a6146-b002-4f35-bf9c-e7d5dd2d81c4",
   "metadata": {},
   "source": [
    "Que coincide con el valor teórico calculado."
   ]
  },
  {
   "cell_type": "markdown",
   "id": "dd670926-fc71-419c-a93d-4e2735b881eb",
   "metadata": {},
   "source": [
    "#### Comentarios:\n",
    "\n",
    " H|SVansatz> = -|SVansatz>, es decir  λ=-1\n",
    "\n",
    "Es el mismo estado pero con fase global de 180ª"
   ]
  },
  {
   "cell_type": "code",
   "execution_count": null,
   "id": "fdd34bca-78b7-46b4-a2b6-e1ca27eb57b8",
   "metadata": {},
   "outputs": [],
   "source": []
  },
  {
   "cell_type": "markdown",
   "id": "5d5b8e94-02f2-427e-b495-c411a4df9c29",
   "metadata": {},
   "source": [
    "#### Pesos posicionales en  los diagramas circuitales de qiskit\n",
    "\n",
    "En el seguimiento algebraico de la evolución del estado inicial hay que tener en cuenta el peso posicional de los qbits en los diagranas circuitales de qiskit, que es el contrario al estándar, lo que altera la representación numérica de los operadores.\n",
    "\n",
    "Así, para el operador CNOT, el operador equivalente al diagrama circuital qiskit es el siguiente:"
   ]
  },
  {
   "cell_type": "code",
   "execution_count": 18,
   "id": "9c172637-44d6-41bb-b80c-5cb8ae603c02",
   "metadata": {},
   "outputs": [
    {
     "data": {
      "text/plain": [
       "array([[1.+0.j, 0.+0.j, 0.+0.j, 0.+0.j],\n",
       "       [0.+0.j, 0.+0.j, 0.+0.j, 1.+0.j],\n",
       "       [0.+0.j, 0.+0.j, 1.+0.j, 0.+0.j],\n",
       "       [0.+0.j, 1.+0.j, 0.+0.j, 0.+0.j]])"
      ]
     },
     "execution_count": 18,
     "metadata": {},
     "output_type": "execute_result"
    }
   ],
   "source": [
    "H=np.array([[1,0,0,0], [0,0,0,1],[0,0,1,0], [0,1,0,0]],dtype=complex)\n",
    "H"
   ]
  },
  {
   "cell_type": "markdown",
   "id": "02c3fa8d-ca70-4f83-9a85-6ad771d14f54",
   "metadata": {},
   "source": [
    "\n",
    "Con autovalores y autovectores:\n",
    "\n",
    "λ1 = 1\n",
    "\n",
    "    |v1⟩ = |00⟩        = (0.71,0,0,0)\n",
    "    |v2⟩ = |10⟩        = (0,0,0.71,0)\n",
    "    |v3> = |01>+|11>   = (0,0.71,0,0.71)\n",
    "\n",
    "λ2 = -1\n",
    "\n",
    "    |v4⟩ = |11⟩ - |01⟩ = (0,-0.71,0,0,71)"
   ]
  },
  {
   "cell_type": "markdown",
   "id": "a36f490f-887a-4280-962e-9d9d0e67522f",
   "metadata": {},
   "source": [
    "\n",
    "Inspiración futura:\n",
    "\n",
    "https://qiskit.org/textbook/ch-applications/vqe-molecules.html"
   ]
  }
 ],
 "metadata": {
  "kernelspec": {
   "display_name": "Python 3 (ipykernel)",
   "language": "python",
   "name": "python3"
  },
  "language_info": {
   "codemirror_mode": {
    "name": "ipython",
    "version": 3
   },
   "file_extension": ".py",
   "mimetype": "text/x-python",
   "name": "python",
   "nbconvert_exporter": "python",
   "pygments_lexer": "ipython3",
   "version": "3.10.11"
  }
 },
 "nbformat": 4,
 "nbformat_minor": 5
}
