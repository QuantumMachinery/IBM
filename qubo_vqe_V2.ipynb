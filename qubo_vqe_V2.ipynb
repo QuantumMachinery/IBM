{
 "cells": [
  {
   "cell_type": "markdown",
   "id": "3e7964f8-64fe-4e57-a2b8-a5d77db77c31",
   "metadata": {},
   "source": [
    "### Actividad: la optimización QUBO con framework qiskit\n",
    "\n",
    "V2.0 Julio 2023"
   ]
  },
  {
   "cell_type": "markdown",
   "id": "d51ee88a-d3fc-4804-b805-d69667c9c822",
   "metadata": {},
   "source": [
    "### Introducción\n",
    "\n",
    "QUBO (Quadratic Unconstrained Binary Optimization) es un enfoque de optimización que se utiliza tanto en computación clásica como cuántica. Se trata de formular un problema de optimización en términos de variables binarias y una función de costo cuadrática. El objetivo es encontrar la asignación de valores binarios que minimice (o maximice) la función de costo.\n",
    "\n",
    "Además, y esto es muy interesante en la algoritmia cuántica, los problemas de QUBO se pueden reformular como hamiltonianos de Ising, lo que los convierte en una opción natural para la computación cuántica. De hecho, resolver problemas QUBO es una de las aplicaciones más prometedoras de la computación cuántica en la actualidad.\n",
    "\n",
    "El fabricante de hardware cuántico, Dwave, basa sus arquitecturas en la optimización de problemas planteados bajo el principio QUBO, siendo una de las estrategias de diseño que mayor éxito están alcanzando en la comercialización de hardware para la industria y la banca\n",
    "\n",
    "#### Ejemplo marco: optimización de problema qubo de 5 variables\n",
    "\n",
    "Supongamos que tenemos un conjunto de 5 variables binarias x0...x4, y queremos minimizar la siguiente función objetivo (cuadrática):\n",
    "\n",
    "##### f(x0, x1, x2, x3, x4) = - 2x0x1 + 3x0x3 - 3x1x3 + x1x4 - 4x2x3 - 2x2x4 + 4x3x4\n",
    "\n",
    "Para resolver este problema QUBO, primero podemos expresar la función objetivo cuadrática como una matriz Q, donde los elementos (i, j) de Q, es el coeficiente xi xj en la función objetivo. \n",
    "\n",
    "Nota: si se asume que los coeficientes (i,j)=(j,i), f(x1,x2,x3)=2f(x1,x2,x3)\n",
    "\n",
    "Para el ejemplo anterior:\n",
    "\n",
    "Q = [[0, -2, 0, 3, 0],\n",
    "[0, 0, 0, -3, 1],\n",
    "[0, 0, 0, -4,-2]\n",
    "[0, 0, 0, 0,4]\n",
    "[0, 0, 0, 0,0]]\n",
    "\n",
    "A continuación, podemos usar la clase `QuadraticProgram` de Qiskit para crear una instancia QUBO y establecer la función objetivo usando la matriz Q:"
   ]
  },
  {
   "cell_type": "markdown",
   "id": "2faee13a-b92d-4596-ba11-08c45ffd5f64",
   "metadata": {},
   "source": [
    "#### Doc QuadraticProgram\n",
    "\n",
    "Esta documentación es fundamental para implementar en Qiskit problemas QUBO y  QCBO, es decir, funciones objetivo con y sin restricciones.\n",
    "\n",
    "https://qiskit.org/documentation/optimization/tutorials/01_quadratic_program.html\n",
    "\n",
    "https://github.com/Qiskit/qiskit-optimization/blob/main/qiskit_optimization/converters/quadratic_program_to_qubo.py\n",
    "\n",
    "#### Doc RealAmplitudes\n",
    "\n",
    "Clase Realamplitudes que genera un bloque paramétrico entrelazado de q cúbits y n capas para sintetizar estados ansatz sobre el que actúa un hamiltoniano-problema\n",
    "\n",
    "https://qiskit.org/documentation/stubs/qiskit.circuit.library.RealAmplitudes.html\n",
    "\n",
    "#### Empecemos definiendo el problema:"
   ]
  },
  {
   "cell_type": "code",
   "execution_count": 1,
   "id": "31bea535-5317-41a7-88a5-d06a9cc331bb",
   "metadata": {},
   "outputs": [],
   "source": [
    "Q = [[0,-2,0,3,0], [0,0,0,-3,1], [0,0,0,-4,-2],[0,0,0,0,4],[0,0,0,0,0]]"
   ]
  },
  {
   "cell_type": "code",
   "execution_count": 2,
   "id": "78aa2121-8320-4290-a1ca-017ae88e5eae",
   "metadata": {},
   "outputs": [
    {
     "name": "stdout",
     "output_type": "stream",
     "text": [
      "Problem name: \n",
      "\n",
      "Minimize\n",
      "  -2*x_0*x_1 + 3*x_0*x_3 - 3*x_1*x_3 + x_1*x_4 - 4*x_2*x_3 - 2*x_2*x_4\n",
      "  + 4*x_3*x_4\n",
      "\n",
      "Subject to\n",
      "  No constraints\n",
      "\n",
      "  Binary variables (5)\n",
      "    x_0 x_1 x_2 x_3 x_4\n",
      "\n"
     ]
    },
    {
     "data": {
      "text/plain": [
       "qiskit_optimization.problems.quadratic_program.QuadraticProgram"
      ]
     },
     "execution_count": 2,
     "metadata": {},
     "output_type": "execute_result"
    }
   ],
   "source": [
    "from qiskit_optimization import QuadraticProgram\n",
    "from qiskit_optimization.converters import QuadraticProgramToQubo\n",
    "\n",
    "qp = QuadraticProgram()\n",
    "qp.binary_var('x_0')\n",
    "qp.binary_var('x_1')\n",
    "qp.binary_var('x_2')\n",
    "qp.binary_var('x_3')\n",
    "qp.binary_var('x_4')\n",
    "qp.minimize(linear=[0, 0, 0, 0, 0], quadratic=Q)\n",
    "\n",
    "print(qp.prettyprint())\n",
    "type(qp)"
   ]
  },
  {
   "cell_type": "markdown",
   "id": "7805ce1c-3e89-41c3-996b-73b355e5f465",
   "metadata": {},
   "source": [
    "Aunque el problema queda perfectamente definido con QuadraticProgram(), esta clase es general, abarcando problemas con restricciones.\n",
    "Podemos convertirlo en un problema estrictamente QUBO mediante el siguiente `converter`:"
   ]
  },
  {
   "cell_type": "code",
   "execution_count": 3,
   "id": "8013f7b0-6c24-44da-addb-746ba6e70b83",
   "metadata": {},
   "outputs": [
    {
     "name": "stdout",
     "output_type": "stream",
     "text": [
      "Problem name: \n",
      "\n",
      "Minimize\n",
      "  -2*x_0*x_1 + 3*x_0*x_3 - 3*x_1*x_3 + x_1*x_4 - 4*x_2*x_3 - 2*x_2*x_4\n",
      "  + 4*x_3*x_4\n",
      "\n",
      "Subject to\n",
      "  No constraints\n",
      "\n",
      "  Binary variables (5)\n",
      "    x_0 x_1 x_2 x_3 x_4\n",
      "\n"
     ]
    },
    {
     "data": {
      "text/plain": [
       "qiskit_optimization.problems.quadratic_program.QuadraticProgram"
      ]
     },
     "execution_count": 3,
     "metadata": {},
     "output_type": "execute_result"
    }
   ],
   "source": [
    "conv = QuadraticProgramToQubo()\n",
    "qubo = conv.convert(qp)\n",
    "print(qubo.prettyprint())\n",
    "type(qubo)"
   ]
  },
  {
   "cell_type": "markdown",
   "id": "6c767265-135f-49e6-a190-4662ee47bcc0",
   "metadata": {},
   "source": [
    "#### Ahora viene un paso crucial:\n",
    "Especificado el problema `qubo`, tenemos que obtener un hamiltoniano Ising, en función de operadores de Pauli, que es un modelo computacional compatible con arquitecturas cuánticas.\n",
    "\n",
    "El offset es un sesgo que habrá de sumarse posteriormente al autovalor mínimo calculado, energía mínima del sistema Ising, para obtener el valor final de la función de coste objetivo."
   ]
  },
  {
   "cell_type": "code",
   "execution_count": 4,
   "id": "9595856a-481a-4778-b106-d7261e3948c2",
   "metadata": {},
   "outputs": [
    {
     "name": "stdout",
     "output_type": "stream",
     "text": [
      "offset: -0.75\n",
      "Hamiltoniano Ising:\n",
      "-0.5 * IIIZZ\n",
      "- 0.25 * IIIIZ\n",
      "+ 1.0 * IIIZI\n",
      "+ 0.75 * IZIIZ\n",
      "- 0.75 * IZIZI\n",
      "- 1.0 * IZZII\n",
      "+ 1.5 * IIZII\n",
      "+ 0.25 * ZIIZI\n",
      "- 0.75 * ZIIII\n",
      "- 0.5 * ZIZII\n",
      "+ 1.0 * ZZIII\n"
     ]
    }
   ],
   "source": [
    "ising, offset = qubo.to_ising()\n",
    "print(\"offset: {}\".format(offset))\n",
    "print(\"Hamiltoniano Ising:\")\n",
    "print(ising)"
   ]
  },
  {
   "cell_type": "markdown",
   "id": "ba20e63a-d391-4283-93f7-7f23d2e63d29",
   "metadata": {},
   "source": [
    "### Optimización del hamiltoniano ising\n",
    "\n",
    "Expresada la función de coste como un hamiltoniano Ising, suma ponderada de productos de Pauli de operadores {I},{Z},  a continuación podemos usar un algoritmo de optimización cuántica, como el  Variational Quantum Eigensolver (VQE), para encontrar el estado que minimiza este hamiltoniano, que es lo mismo que encontrar su estado de mínima energía.  Este estado tendrá tantos cúbits como variables qubo tiene la función de coste del problema.\n",
    "\n",
    "El algoritmo VQE utiliza un circuito cuántico parametrizado (ansatz) para preparar estados de prueba, variando los parámetros del ansatz con un optimizador clásico, y con el objetivo de obtener un valor esperado Ising mínimo, es decir,el autovalor mínimo  para determinado estado cuántico óptimo. \n",
    "\n",
    "Este autovalor no es nada más que la energía mínima de nuestra función objetivo.\n",
    "\n",
    "El optimizador clásico puede ser alguno de los proporcionados por qiskit, o cualquiera de los disponibles en la librería Scipy."
   ]
  },
  {
   "cell_type": "markdown",
   "id": "88554888-6f3a-42c1-8bf1-cef28fce6037",
   "metadata": {},
   "source": [
    "#### Circuito `ansatz`\n",
    "\n",
    "Como ya se dijo,  Realamplitudes  genera un bloque paramétrico entrelazado de q cúbits y n capas para sintetizar estados ansatz sobre el que actuará el hamiltoniano Ising anterior."
   ]
  },
  {
   "cell_type": "code",
   "execution_count": 5,
   "id": "fa316904-6aef-472b-bfc3-7f227e61ca0b",
   "metadata": {},
   "outputs": [
    {
     "name": "stdout",
     "output_type": "stream",
     "text": [
      "     ┌──────────┐     ┌──────────┐                        ┌──────────┐»\n",
      "q_0: ┤ Ry(θ[0]) ├──■──┤ Ry(θ[4]) ├─────────────────■──────┤ Ry(θ[8]) ├»\n",
      "     ├──────────┤┌─┴─┐└──────────┘┌──────────┐   ┌─┴─┐    └──────────┘»\n",
      "q_1: ┤ Ry(θ[1]) ├┤ X ├─────■──────┤ Ry(θ[5]) ├───┤ X ├─────────■──────»\n",
      "     ├──────────┤└───┘   ┌─┴─┐    └──────────┘┌──┴───┴───┐   ┌─┴─┐    »\n",
      "q_2: ┤ Ry(θ[2]) ├────────┤ X ├─────────■──────┤ Ry(θ[6]) ├───┤ X ├────»\n",
      "     ├──────────┤        └───┘       ┌─┴─┐    ├──────────┤   └───┘    »\n",
      "q_3: ┤ Ry(θ[3]) ├────────────────────┤ X ├────┤ Ry(θ[7]) ├────────────»\n",
      "     └──────────┘                    └───┘    └──────────┘            »\n",
      "«                              \n",
      "«q_0: ─────────────────────────\n",
      "«     ┌──────────┐             \n",
      "«q_1: ┤ Ry(θ[9]) ├─────────────\n",
      "«     └──────────┘┌───────────┐\n",
      "«q_2: ─────■──────┤ Ry(θ[10]) ├\n",
      "«        ┌─┴─┐    ├───────────┤\n",
      "«q_3: ───┤ X ├────┤ Ry(θ[11]) ├\n",
      "«        └───┘    └───────────┘\n"
     ]
    }
   ],
   "source": [
    "\n",
    "from qiskit.circuit.library import RealAmplitudes #ansatz\n",
    "\n",
    "# ansatz de 4 cúbits y 2 capas, con puertas Ry paramétricas y entrelazamiento CNOT\n",
    "\n",
    "ansatz = RealAmplitudes(4,reps=2,entanglement='linear')  \n",
    "\n",
    "# Se puede optar por una inicialización aleatoria\n",
    "thetas_i=[]\n",
    "\n",
    "print(ansatz.decompose().draw())\n"
   ]
  },
  {
   "cell_type": "markdown",
   "id": "5dadad5f-34a0-4cac-94aa-b7962d70736b",
   "metadata": {},
   "source": [
    "#### VQE y valor óptimo función objetivo\n",
    "\n",
    "El algoritmo clásico-cuántico VQE, obtiene el autovalor de un hamiltoniano problema apoyándose en un circuito ansatz que va ajustando sus parámetros hasta producir un estado que permite minimizar dicho autovalor, es decir, minimizar su valor esperado (energía).\n",
    "\n",
    "La estrategia de variación de dichos parámetros es determinada por un algoritmo clásico de optimización. Se indican a modo de propuesta dos de los más referenciados en la literatura: COBYLA Y SLSQP.\n",
    "\n",
    "<b>Documentación:</b>\n",
    "\n",
    "https://qiskit.org/documentation/tutorials/algorithms/02_vqe_advanced_options.html\n",
    "https://qiskit.org/documentation/stubs/qiskit.algorithms.minimum_eigensolvers.VQEResult.html"
   ]
  },
  {
   "cell_type": "code",
   "execution_count": 6,
   "id": "73876759-6b9b-4068-a3d0-26df0f70639f",
   "metadata": {},
   "outputs": [],
   "source": [
    "# from qiskit.algorithms import VQE --> obsoleto\n",
    "from qiskit.algorithms.minimum_eigensolvers import VQE \n",
    "from qiskit.algorithms.optimizers import COBYLA,SLSQP  # optimizador. Se pueden usar de Scipy\n",
    "from qiskit.primitives import Estimator # Nuevo alternativa a instanciado Statevector\n",
    "\n",
    "estimador = Estimator() \n",
    "optimizer = COBYLA(maxiter=1000)\n",
    "optimizer1 = SLSQP(maxiter=1000)  # converge mucho más rápido\n",
    "\n",
    "vqe = VQE(estimador,ansatz,optimizer1)"
   ]
  },
  {
   "cell_type": "code",
   "execution_count": 7,
   "id": "357ee523-a88c-4e52-8c60-1343adc461bb",
   "metadata": {},
   "outputs": [],
   "source": [
    "result = vqe.compute_minimum_eigenvalue(ising)"
   ]
  },
  {
   "cell_type": "code",
   "execution_count": 8,
   "id": "08f6c061-f319-4170-80f4-d2b884e6385c",
   "metadata": {},
   "outputs": [
    {
     "name": "stdout",
     "output_type": "stream",
     "text": [
      "Iteraciones: 439\n",
      "Tiempo: 1.75\n",
      "θi del ansatz:\n",
      " [-1.33166873 -1.63788603 -0.50026166  1.14976596 -1.59602363  1.80973696\n",
      " -1.57782513 -1.57141191 -1.6024969   2.51082787 -3.07629192  1.07046173\n",
      "  2.72037381  0.0428246  -2.20180927]\n",
      "Función objetivo óptima: -6.25\n"
     ]
    }
   ],
   "source": [
    "import numpy as np\n",
    "print('Iteraciones:',result.cost_function_evals)\n",
    "print('Tiempo:',np.round(result.optimizer_time,2))\n",
    "print(\"θi del ansatz:\\n\",result.optimal_point)\n",
    "print(\"Función objetivo óptima:\",round(result.eigenvalue,2))"
   ]
  },
  {
   "cell_type": "code",
   "execution_count": null,
   "id": "5fa87087-b205-4a07-91fe-1edc11066eb4",
   "metadata": {},
   "outputs": [],
   "source": []
  },
  {
   "cell_type": "markdown",
   "id": "669bd4e4-e84d-46f7-b70c-cfcb99576653",
   "metadata": {},
   "source": [
    "### Obtención del vector de estado óptimo"
   ]
  },
  {
   "cell_type": "markdown",
   "id": "0fe358a6-01ce-4870-ad1e-91698bc9102c",
   "metadata": {},
   "source": [
    "La implementación más reciente de VQE en Quiskit no proporciona el método result.eigenstates() que proporciona el vector de estado para el eigenvalor mínimo del sistema.\n",
    "\n",
    "La estrategia que seguiremos es obtener el estado óptimo a partir de los operadores `ansatz` e `ising`, y  para hacer evolucionar al sistema desde su estado inicial al estado óptimo."
   ]
  },
  {
   "cell_type": "code",
   "execution_count": 9,
   "id": "07838c73-e2ca-40dd-bc17-b81ff55d684f",
   "metadata": {},
   "outputs": [
    {
     "name": "stdout",
     "output_type": "stream",
     "text": [
      "     ┌──────────┐     ┌──────────┐                        ┌───────────┐»\n",
      "q_0: ┤ Ry(θ[0]) ├──■──┤ Ry(θ[5]) ├─────────────────■──────┤ Ry(θ[10]) ├»\n",
      "     ├──────────┤┌─┴─┐└──────────┘┌──────────┐   ┌─┴─┐    └───────────┘»\n",
      "q_1: ┤ Ry(θ[1]) ├┤ X ├─────■──────┤ Ry(θ[6]) ├───┤ X ├──────────■──────»\n",
      "     ├──────────┤└───┘   ┌─┴─┐    └──────────┘┌──┴───┴───┐    ┌─┴─┐    »\n",
      "q_2: ┤ Ry(θ[2]) ├────────┤ X ├─────────■──────┤ Ry(θ[7]) ├────┤ X ├────»\n",
      "     ├──────────┤        └───┘       ┌─┴─┐    └──────────┘ ┌──┴───┴───┐»\n",
      "q_3: ┤ Ry(θ[3]) ├────────────────────┤ X ├─────────■───────┤ Ry(θ[8]) ├»\n",
      "     ├──────────┤                    └───┘       ┌─┴─┐     ├──────────┤»\n",
      "q_4: ┤ Ry(θ[4]) ├────────────────────────────────┤ X ├─────┤ Ry(θ[9]) ├»\n",
      "     └──────────┘                                └───┘     └──────────┘»\n",
      "«                                            \n",
      "«q_0: ───────────────────────────────────────\n",
      "«     ┌───────────┐                          \n",
      "«q_1: ┤ Ry(θ[11]) ├──────────────────────────\n",
      "«     └───────────┘┌───────────┐             \n",
      "«q_2: ──────■──────┤ Ry(θ[12]) ├─────────────\n",
      "«         ┌─┴─┐    └───────────┘┌───────────┐\n",
      "«q_3: ────┤ X ├──────────■──────┤ Ry(θ[13]) ├\n",
      "«         └───┘        ┌─┴─┐    ├───────────┤\n",
      "«q_4: ─────────────────┤ X ├────┤ Ry(θ[14]) ├\n",
      "«                      └───┘    └───────────┘\n"
     ]
    }
   ],
   "source": [
    "cir=result.optimal_circuit\n",
    "print(cir.decompose().draw())"
   ]
  },
  {
   "cell_type": "code",
   "execution_count": 10,
   "id": "cd05678c-f5c1-4fd2-9656-f19dd19e6f09",
   "metadata": {},
   "outputs": [
    {
     "data": {
      "text/plain": [
       "{ParameterVectorElement(θ[0]): -1.3316687324580188,\n",
       " ParameterVectorElement(θ[1]): -1.6378860330941705,\n",
       " ParameterVectorElement(θ[2]): -0.5002616552024899,\n",
       " ParameterVectorElement(θ[3]): 1.1497659638179443,\n",
       " ParameterVectorElement(θ[4]): -1.5960236346743566,\n",
       " ParameterVectorElement(θ[5]): 1.8097369599459683,\n",
       " ParameterVectorElement(θ[6]): -1.5778251312372806,\n",
       " ParameterVectorElement(θ[7]): -1.5714119092889087,\n",
       " ParameterVectorElement(θ[8]): -1.6024968952942438,\n",
       " ParameterVectorElement(θ[9]): 2.510827874469789,\n",
       " ParameterVectorElement(θ[10]): -3.0762919202755086,\n",
       " ParameterVectorElement(θ[11]): 1.0704617274886283,\n",
       " ParameterVectorElement(θ[12]): 2.720373813936743,\n",
       " ParameterVectorElement(θ[13]): 0.04282459770511344,\n",
       " ParameterVectorElement(θ[14]): -2.201809273285759}"
      ]
     },
     "execution_count": 10,
     "metadata": {},
     "output_type": "execute_result"
    }
   ],
   "source": [
    "result.optimal_parameters"
   ]
  },
  {
   "cell_type": "markdown",
   "id": "7214b712-d28d-4a5c-ac94-2874350dd0ad",
   "metadata": {},
   "source": [
    "Los parámetros anteriores no están vinculados al circuito ansatz, y por tanto no se puede conocer su respuesta.\n",
    "\n",
    "Al proceso de vincularlos se llama binding, y es muy sencillo con el atributo `result.optimal_parameters`.\n",
    "\n",
    "Consultar el siguiente documento para contextualizar el proceso:\n",
    "\n",
    "https://qiskit.org/documentation/tutorials/circuits_advanced/01_advanced_circuits.html\n"
   ]
  },
  {
   "cell_type": "code",
   "execution_count": 11,
   "id": "f9f8267d-dcb2-44b1-87fe-84eaa00eb460",
   "metadata": {},
   "outputs": [],
   "source": [
    "cir_ansatz = [cir.bind_parameters(result.optimal_parameters)]"
   ]
  },
  {
   "cell_type": "code",
   "execution_count": 12,
   "id": "d0a8a419-d7ea-4af1-9441-61976a39e5cc",
   "metadata": {},
   "outputs": [
    {
     "data": {
      "image/png": "[encoded data removed]",
      "text/plain": [
       "<Figure size 2210.55x1454.83 with 1 Axes>"
      ]
     },
     "execution_count": 12,
     "metadata": {},
     "output_type": "execute_result"
    }
   ],
   "source": [
    "# Se reajusta el circuito después del binding\n",
    "cir_ansatz=cir_ansatz[-1]\n",
    "\n",
    "cir_ansatz.draw('mpl')"
   ]
  },
  {
   "cell_type": "markdown",
   "id": "82f336c6-3b75-48ca-94fb-cb8f4e96fb6f",
   "metadata": {},
   "source": [
    "#### Obtención de los operadores ising, ansatz y total"
   ]
  },
  {
   "cell_type": "code",
   "execution_count": 13,
   "id": "3b740388-6a31-4db4-85b9-391837f56b96",
   "metadata": {},
   "outputs": [
    {
     "name": "stdout",
     "output_type": "stream",
     "text": [
      "(32, 32)\n"
     ]
    },
    {
     "data": {
      "text/plain": [
       "array([[-0.  +0.j, -0.02+0.j,  0.08+0.j, ...,  0.  +0.j, -0.  +0.j,\n",
       "        -0.01+0.j],\n",
       "       [ 0.  +0.j,  0.35+0.j,  0.  +0.j, ..., -0.01+0.j, -0.57+0.j,\n",
       "         0.14+0.j],\n",
       "       [-0.  +0.j, -0.04+0.j,  0.15+0.j, ..., -0.  +0.j,  0.  +0.j,\n",
       "         0.  +0.j],\n",
       "       ...,\n",
       "       [ 0.  +0.j,  0.  +0.j,  0.  +0.j, ..., -0.8 +0.j, -0.01+0.j,\n",
       "        -0.05+0.j],\n",
       "       [ 0.  +0.j, -0.  +0.j,  0.  +0.j, ..., -0.03+0.j,  0.1 +0.j,\n",
       "         0.42+0.j],\n",
       "       [-0.  +0.j,  0.01+0.j,  0.  +0.j, ...,  0.44+0.j,  0.01+0.j,\n",
       "         0.03+0.j]])"
      ]
     },
     "execution_count": 13,
     "metadata": {},
     "output_type": "execute_result"
    }
   ],
   "source": [
    "from qiskit.quantum_info.operators import Operator\n",
    "from qiskit.visualization import array_to_latex\n",
    "import numpy as np\n",
    "\n",
    "oper_ansatz=np.round(Operator(cir_ansatz),2)\n",
    "print(oper_ansatz.shape)\n",
    "array_to_latex(oper_ansatz)\n",
    "oper_ansatz"
   ]
  },
  {
   "cell_type": "code",
   "execution_count": 14,
   "id": "e95a8245-e035-43af-a243-d35eb883b175",
   "metadata": {},
   "outputs": [
    {
     "name": "stdout",
     "output_type": "stream",
     "text": [
      "(32, 32)\n"
     ]
    },
    {
     "data": {
      "text/plain": [
       "array([[ 0.75+0.j,  0.  +0.j,  0.  +0.j, ...,  0.  +0.j,  0.  +0.j,\n",
       "         0.  +0.j],\n",
       "       [ 0.  +0.j,  0.75+0.j,  0.  +0.j, ...,  0.  +0.j,  0.  +0.j,\n",
       "         0.  +0.j],\n",
       "       [ 0.  +0.j,  0.  +0.j,  0.75+0.j, ...,  0.  +0.j,  0.  +0.j,\n",
       "         0.  +0.j],\n",
       "       ...,\n",
       "       [ 0.  +0.j,  0.  +0.j,  0.  +0.j, ...,  1.75+0.j,  0.  +0.j,\n",
       "         0.  +0.j],\n",
       "       [ 0.  +0.j,  0.  +0.j,  0.  +0.j, ...,  0.  +0.j, -3.25+0.j,\n",
       "         0.  +0.j],\n",
       "       [ 0.  +0.j,  0.  +0.j,  0.  +0.j, ...,  0.  +0.j,  0.  +0.j,\n",
       "        -2.25+0.j]])"
      ]
     },
     "execution_count": 14,
     "metadata": {},
     "output_type": "execute_result"
    }
   ],
   "source": [
    "oper_ising=ising.to_matrix()\n",
    "print(oper_ising.shape)\n",
    "array_to_latex(oper_ising)\n",
    "oper_ising"
   ]
  },
  {
   "cell_type": "code",
   "execution_count": 15,
   "id": "a6426583-8db0-41be-9be6-4c4d7843498c",
   "metadata": {},
   "outputs": [
    {
     "name": "stdout",
     "output_type": "stream",
     "text": [
      "(32, 32)\n"
     ]
    },
    {
     "data": {
      "text/plain": [
       "array([[ 0.    +0.j, -0.015 +0.j,  0.06  +0.j, ...,  0.    +0.j,\n",
       "         0.    +0.j,  0.0225+0.j],\n",
       "       [ 0.    +0.j,  0.2625+0.j,  0.    +0.j, ..., -0.0175+0.j,\n",
       "         1.8525+0.j, -0.315 +0.j],\n",
       "       [ 0.    +0.j, -0.03  +0.j,  0.1125+0.j, ...,  0.    +0.j,\n",
       "         0.    +0.j,  0.    +0.j],\n",
       "       ...,\n",
       "       [ 0.    +0.j,  0.    +0.j,  0.    +0.j, ..., -1.4   +0.j,\n",
       "         0.0325+0.j,  0.1125+0.j],\n",
       "       [ 0.    +0.j,  0.    +0.j,  0.    +0.j, ..., -0.0525+0.j,\n",
       "        -0.325 +0.j, -0.945 +0.j],\n",
       "       [ 0.    +0.j,  0.0075+0.j,  0.    +0.j, ...,  0.77  +0.j,\n",
       "        -0.0325+0.j, -0.0675+0.j]])"
      ]
     },
     "execution_count": 15,
     "metadata": {},
     "output_type": "execute_result"
    }
   ],
   "source": [
    "oper=oper_ansatz.dot(oper_ising)\n",
    "print(oper.shape)\n",
    "array_to_latex(oper)\n",
    "oper"
   ]
  },
  {
   "cell_type": "code",
   "execution_count": null,
   "id": "c308cfe4-c698-43d2-86af-6056e3568c5b",
   "metadata": {},
   "outputs": [],
   "source": []
  },
  {
   "cell_type": "markdown",
   "id": "e45f7c10-899f-4dc7-b171-8aaedf19e029",
   "metadata": {},
   "source": [
    "Pasamos ahora a la parte fundamental, comprobar e interpretar la evolución del sistema."
   ]
  },
  {
   "cell_type": "markdown",
   "id": "bf9e940a-6d17-46e3-8df3-3356f9580669",
   "metadata": {},
   "source": [
    "### Evolución del sistema"
   ]
  },
  {
   "cell_type": "code",
   "execution_count": 22,
   "id": "daece9e8-af0f-4519-9909-322bdf9ff158",
   "metadata": {},
   "outputs": [
    {
     "data": {
      "text/latex": [
       "$$ |00000\\rangle$$"
      ],
      "text/plain": [
       "<IPython.core.display.Latex object>"
      ]
     },
     "execution_count": 22,
     "metadata": {},
     "output_type": "execute_result"
    }
   ],
   "source": [
    "# Fijación del estado inicial del sistema\n",
    "\n",
    "from qiskit.quantum_info import Statevector\n",
    "\n",
    "estado_i=Statevector.from_int(0, dims = 32)\n",
    "\n",
    "estado_i.draw('latex')"
   ]
  },
  {
   "cell_type": "code",
   "execution_count": 23,
   "id": "ae97565b-4952-434f-9841-1bd51d4a0d9e",
   "metadata": {},
   "outputs": [
    {
     "data": {
      "text/latex": [
       "$$ |01110\\rangle$$"
      ],
      "text/plain": [
       "<IPython.core.display.Latex object>"
      ]
     },
     "execution_count": 23,
     "metadata": {},
     "output_type": "execute_result"
    }
   ],
   "source": [
    "#estado que entrega el ansatz al bloque Ising\n",
    "estado_ansatz=oper_ansatz.dot(estado_i)\n",
    "Statevector(estado_ansatz).draw('latex')"
   ]
  },
  {
   "cell_type": "code",
   "execution_count": 24,
   "id": "994ef2e9-6577-464e-8e02-e572c51a7e0f",
   "metadata": {},
   "outputs": [
    {
     "data": {
      "text/latex": [
       "$$- \\frac{25}{4} |01110\\rangle$$"
      ],
      "text/plain": [
       "<IPython.core.display.Latex object>"
      ]
     },
     "execution_count": 24,
     "metadata": {},
     "output_type": "execute_result"
    }
   ],
   "source": [
    "# estado a la salida Ising\n",
    "estado_final=oper_ising.dot(estado_ansatz)\n",
    "Statevector(estado_final).draw('latex')"
   ]
  },
  {
   "cell_type": "markdown",
   "id": "0e68942d-3326-40ed-b55f-6368981bbb07",
   "metadata": {},
   "source": [
    "Vemos que el estado después del operador ising es el mismo. El Ansatz ha preparado pues un autovector, cuyo autovalor es -25/4, y se presupone mínimo.\n",
    "\n",
    "Este autovalor se puede obtener analíticamente como:"
   ]
  },
  {
   "cell_type": "code",
   "execution_count": 25,
   "id": "700a3b41-dd5a-4ec0-88d3-58bc8a2e5679",
   "metadata": {},
   "outputs": [
    {
     "data": {
      "text/plain": [
       "(-6.25+0j)"
      ]
     },
     "execution_count": 25,
     "metadata": {},
     "output_type": "execute_result"
    }
   ],
   "source": [
    "# Autovalor del H_ising\n",
    "estado_ansatz.dot(estado_final)"
   ]
  },
  {
   "cell_type": "markdown",
   "id": "95d02334-f5b3-4601-9c87-692619342f26",
   "metadata": {},
   "source": [
    "#### La evolución pero por convolución entre ambos operadores\n",
    "\n",
    "debe de coincidir, se hace como comprobación:\n"
   ]
  },
  {
   "cell_type": "code",
   "execution_count": 26,
   "id": "fc709b6b-3c30-460a-a0e6-5010ee9dd442",
   "metadata": {},
   "outputs": [
    {
     "data": {
      "text/plain": [
       "array([ 0.  +0.j,  0.  +0.j,  0.  +0.j,  0.  +0.j,  0.  +0.j,  0.  +0.j,\n",
       "        0.  +0.j,  0.  +0.j,  0.  +0.j,  0.  +0.j,  0.  +0.j,  0.  +0.j,\n",
       "        0.  +0.j,  0.  +0.j, -6.25+0.j,  0.  +0.j,  0.  +0.j,  0.  +0.j,\n",
       "        0.  +0.j,  0.  +0.j,  0.  +0.j,  0.  +0.j,  0.  +0.j,  0.  +0.j,\n",
       "        0.  +0.j,  0.  +0.j,  0.  +0.j,  0.  +0.j,  0.  +0.j,  0.  +0.j,\n",
       "        0.  +0.j,  0.  +0.j])"
      ]
     },
     "execution_count": 26,
     "metadata": {},
     "output_type": "execute_result"
    }
   ],
   "source": [
    "opTotal=oper_ising.dot(oper_ansatz)\n",
    "opTotal.dot(estado_i)"
   ]
  },
  {
   "cell_type": "code",
   "execution_count": 30,
   "id": "027aafbd-ca75-4097-9d44-4751a6ad06b4",
   "metadata": {},
   "outputs": [
    {
     "data": {
      "text/latex": [
       "$$- \\frac{25}{4} |01110\\rangle$$"
      ],
      "text/plain": [
       "<IPython.core.display.Latex object>"
      ]
     },
     "execution_count": 30,
     "metadata": {},
     "output_type": "execute_result"
    }
   ],
   "source": [
    "estado_final2=opTotal.dot(estado_i)\n",
    "Statevector(estado_final2).draw('latex')"
   ]
  },
  {
   "cell_type": "markdown",
   "id": "0bbb13ce-9578-4e0a-a417-d1fa73933740",
   "metadata": {},
   "source": [
    "que coincide con el método por etapas anterior."
   ]
  },
  {
   "cell_type": "markdown",
   "id": "17033400-ccca-421a-8892-4506fd9277c5",
   "metadata": {},
   "source": [
    "### RESUMEN RESULTADOS"
   ]
  },
  {
   "cell_type": "code",
   "execution_count": 32,
   "id": "5f2e8677-aeb3-4358-afc5-d2645021f77b",
   "metadata": {},
   "outputs": [
    {
     "name": "stdout",
     "output_type": "stream",
     "text": [
      "\n",
      "Función objetivo óptima: -7.0\n",
      "Valor esperado H-Ising\n",
      "-6.25\n",
      "Autovalor Ising:\n",
      "-6.25\n",
      "Autoestado Ising:\n"
     ]
    },
    {
     "data": {
      "text/latex": [
       "$$ |01110\\rangle$$"
      ],
      "text/plain": [
       "<IPython.core.display.Latex object>"
      ]
     },
     "execution_count": 32,
     "metadata": {},
     "output_type": "execute_result"
    }
   ],
   "source": [
    "print(\"\\nFunción objetivo óptima:\",round(result.eigenvalue,3)+offset)\n",
    "print(\"Valor esperado H-Ising\")\n",
    "print(np.real(estado_ansatz.dot(oper_ising).dot(estado_ansatz)))\n",
    "print(\"Autovalor Ising:\")\n",
    "print(np.real(estado_ansatz.dot(estado_final)))\n",
    "print(\"Autoestado Ising:\")\n",
    "Statevector(abs(estado_ansatz)).draw('latex')"
   ]
  },
  {
   "cell_type": "markdown",
   "id": "a47ffcaa-4508-4e1f-bc83-552e3335176c",
   "metadata": {},
   "source": [
    "Cuyos qbits |q0q1q2q3q4⟩codifican el resultado de las variables qubo binarias al problema planteado:\n",
    "$$ X_0X_1X_2X_3X_4$$\n",
    "\n",
    "con\n",
    "\n",
    "- X0,X4 = 0 ya que tienen cúbits asociados al estado |0>, spin = +1\n",
    "\n",
    "- X1,X2,X3 = 1 con cúbits asociados al estado |1>, spin =-1\n",
    "\n",
    "valores que llevados a la expresión de la función de coste:\n",
    "\n",
    "f=-2*x_0*x_1 + 3*x_0*x_3 - 3*x_1*x_3 + x_1*x_4 - 4*x_2*x_3 - 2*x_2*x_4 + 4*x_3*x_4 = -7.0\n",
    "\n",
    "acorde al resultado equivalente E_ising + offset: -6.25-0.75\n",
    "\n",
    "\n",
    "<b>Nota:</b>\n",
    "\n",
    "Se da la coindicencia de que la función objetivo arroja el mismo resultado sustituyendo $$ X_0X_1X_2X_3X_4 $$ con sus valores binarios de spin {-1,1}, propiedad que, en general, no tiene la función de coste."
   ]
  },
  {
   "cell_type": "code",
   "execution_count": null,
   "id": "3d8ab679-67fa-49c0-859f-8fe7db34f009",
   "metadata": {},
   "outputs": [],
   "source": []
  }
 ],
 "metadata": {
  "kernelspec": {
   "display_name": "Python 3 (ipykernel)",
   "language": "python",
   "name": "python3"
  },
  "language_info": {
   "codemirror_mode": {
    "name": "ipython",
    "version": 3
   },
   "file_extension": ".py",
   "mimetype": "text/x-python",
   "name": "python",
   "nbconvert_exporter": "python",
   "pygments_lexer": "ipython3",
   "version": "3.10.11"
  }
 },
 "nbformat": 4,
 "nbformat_minor": 5
}
