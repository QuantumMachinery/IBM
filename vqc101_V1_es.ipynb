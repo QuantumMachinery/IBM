{
 "cells": [
  {
   "cell_type": "markdown",
   "id": "31225c7e-cb77-4f49-a2c2-e5c254104c81",
   "metadata": {},
   "source": [
    "## VQC101\n",
    "\n",
    "## Clasificación cuántica variacional \n",
    "\n",
    "(con toy dataset)\n",
    "\n",
    "V1.0 Julio, 2023\n",
    "\n"
   ]
  },
  {
   "cell_type": "markdown",
   "id": "93864a2f-da15-44c5-9c7e-aba89aeb8246",
   "metadata": {},
   "source": [
    "### La clasificación cuántica\n",
    "\n",
    "Un problema genérico de clasificación cuántica implica 3 fases bien diferenciadas:\n",
    "\n",
    "- FeatureMapping: mapeo de los datos clásicos en datos cuánticos: \n",
    "- Ajuste del modelo\n",
    "- Generalización: test del modelo ajustado\n",
    "\n",
    "La clasificación puede ser de etiqueta binaria, en 2 clases, o multiclase.  \n",
    "\n",
    "Por su capital importancia en el proceso, se van a indicar los aspectos más relevantes que implican la primera fase.\n",
    "\n",
    "Dentr"
   ]
  },
  {
   "cell_type": "markdown",
   "id": "b5202fb3-5b1c-4c8e-b382-b6d3b4f5e589",
   "metadata": {},
   "source": [
    "### Introducción al QFeatureMap\n",
    "\n",
    "El mapeo de características es una técnica utilizada en el análisis de datos y el aprendizaje automático para transformar los datos de entrada de un espacio de menor dimensión a un espacio de mayor dimensión, donde se pueden analizar o clasificar más fácilmente. El mapeo de características implica seleccionar o diseñar un conjunto de funciones que mapean los datos originales a un nuevo conjunto de características que capturan mejor los patrones subyacentes en los datos.\n",
    "\n",
    "Un mapa de características cuánticas codifica datos clásicos en el espacio de estado cuántico mediante el uso de un circuito cuántico. <b>El mapeo cuántico es un paso obligatorio</b> para aplicar el aprendizaje automático cuántico (QML) a los datos clásicos. Existen varios circuitos cuánticos para enfocar este problema: ZFeatureMap, ZZFeatureMap, PauliFeatureMap ...\n",
    "\n",
    "En uno de los artículos germinales que introdujeron los métodos de kernel cuántico (Havlicek, 2019), el ZZFeatureMap se utilizó en una demostración experimental como ejemplo de un método de núcleo cuántico que podría tener éxito en la clasificación de un conjunto de datos que se conjeturó ser computacionalmente ineficiente (tiempo exponencial) para ser abordado con un algoritmo de aprendizaje clásico (siempre que el mapa de características tenga 2 o más capas). \n",
    "\n",
    "El dataset con el que realizaron el experimento era adhoc, es decir, crearon un conjunto de datos en el que ese kernel específico tenía éxito mientras que la mayoría de los demás fallaban. Por ejemplo, usaron 2 qubits en la demostración experimental, pero una demostración de la ventaja cuántica real requeriría muchos más qubits.\n",
    "\n",
    "Algunos trabajos recientes interesantes (por ejemplo, Glick, 2021, Meyer, 2022) demuestran cómo un mapa de características dado puede aprovechar las simetrías en los datos clásicos, pero por lo demás, hay pocos casos concretos en los que se haya demostrado que los métodos de núcleo cuántico ofrecen una aceleración rigurosa sobre los métodos clásicos. Un ejemplo está en (Liu, 2020), que mostró cierta aceleración si los datos clásicos se etiquetan de acuerdo con alguna función log discreta.\n",
    "\n",
    "<b> ¿Existe alguna forma general de FeatureMap?</b>\n",
    "\n",
    "No, son bastante específicos. Una forma general de construir un mapa de características es elegir cualquier 𝑈(𝑥)\n",
    "que dependa de algún modo de los datos de entrada 𝑥, y luego estimar el núcleo cuántico como\n",
    "\n",
    "    - 𝑘(𝑥,𝑥′)=|⟨0|𝑈†(𝑥′)𝑈(𝑥)|0⟩|2\n",
    "\n",
    "muestreando la distribución de salida de un circuito cuántico. \n",
    "\n",
    "<b> FeatureMaps en qiskit</b>\n",
    "\n",
    "Los mapas de características proporcionados por qiskit son opciones específicas de 𝑈 que han aparecido en la literatura o son simplemente opciones plausibles (pero no demasiado motivadas). Pero todavía hay otras formas de preparar mapas de características; (Liu, 2022) prepara mapas de características por evolución contínua del tiempo (en lugar de un modelo de circuito de tiempo discreto), mientras que (Heyraud, 2022) define mapas de características con respecto a un conjunto de observables en un sistema cuántico. Cada poco tiempo salen nuevas propuestas.\n",
    "\n",
    "<b> Existe un QFeatureM especialmente indicado para problemas de regresión? </b> \n",
    "\n",
    "Es una pregunta sin respuesta incluso en el ML clásico.  Por ejemplo, un kernel gaussiano o un kernel polinomial (ambos clásicamente eficientes) pueden funcionar mejor o peor al generalizar en un conjunto de datos dependiendo de cómo esté estructurado ese conjunto de datos. \n",
    "\n",
    "No existe un mapa de características \"mejor\" porque no hay tal cosa en el aprendizaje automático: <b>un determinado kernel siempre tendrá un rendimiento deficiente para alguna elección de conjunto de datos</b>"
   ]
  },
  {
   "cell_type": "markdown",
   "id": "1d9d76eb-33d9-4c10-8c05-5260e59d6cb4",
   "metadata": {},
   "source": [
    "#### Tipos de FeatureMaps:\n",
    "\n",
    "\n",
    "Un `QFeatureMap` se describe por una relación V(Φ(𝑥⃗)), donde\n",
    "\n",
    "- Φ(…) es una función clásica aplicada sobre datos clásicos. \n",
    "- V(Φ(𝑥⃗)) es el circuito parametrizado que convierte los datos clásicos en datos cuánticos\n",
    "\n",
    "Hay 4 aspectos esenciales para definit un mapa de características:\n",
    "\n",
    "- Su profundidad o dimensión\n",
    "- La función del mapa de datos para codificar los datos clásicos.\n",
    "- El conjunto de puertas cuánticas a usar\n",
    "- El orden de expansión del mapa\n",
    "\n",
    "Repasemos los tipos que soporta el frramwork qiskit.\n",
    "\n",
    "- <b> ZFeatureMap </b>: circuito Z-evolución de Pauli  de primer orden.\n",
    "\n",
    "Implementa una expansión diagonal de primer orden utilizando el ZFeatureMap donde |S| = 1. \n",
    "\n",
    "El circuito resultante no contiene interacciones entre las características de los datos codificados y, por lo tanto, no hay entrelazamiento\n",
    "\n",
    "<b>Argumentos:</b>\n",
    "\n",
    "- feature_dimension: dimensionalidad de los datos clásicos (igual al número de qubits requeridos)\n",
    "\n",
    "- reps: número de veces que se repite el circuito del mapa de características\n",
    "\n",
    "- data_map_function: función que codifica los datos clásicos.\n",
    "\n",
    "https://qiskit.org/documentation/stubs/qiskit.circuit.library.ZFeatureMap.html"
   ]
  },
  {
   "cell_type": "code",
   "execution_count": 1,
   "id": "5375b79c-47dc-49f9-9139-864b69c753c8",
   "metadata": {},
   "outputs": [
    {
     "data": {
      "image/png": "[encoded data removed]",
      "text/plain": [
       "<Figure size 287.294x200.667 with 1 Axes>"
      ]
     },
     "execution_count": 1,
     "metadata": {},
     "output_type": "execute_result"
    }
   ],
   "source": [
    "from qiskit.circuit.library import ZFeatureMap\n",
    "\n",
    "zfm = ZFeatureMap(2, reps=1)\n",
    "zfm.decompose().draw('mpl')"
   ]
  },
  {
   "cell_type": "markdown",
   "id": "485e4549-4401-4352-b6a2-b92a2750f46f",
   "metadata": {},
   "source": [
    "- <b> ZZFeatureMap:</b>circuito Z-evolución de Pauli de segundo orden\n",
    "\n",
    "Un ZZFeature Map (PauliFeatureMap con entrelazamiento) proporciona ventaja cuántica genuina, mientras que un ZFeatureMap (PauliFeatureMap sin entrelazamiento) no proporciona ninguna ventaja cuántica conocida debido a la ausencia del operador de entrelazamiento. \n",
    "\n",
    "Como|S| ≤ 2, las interacciones entre los datos se codificarán en el FeatureMap\n",
    "\n",
    "\n",
    "<b>Argumentos:</b>\n",
    "\n",
    "- feature_dimensions: dimensionalidad de los datos clásicos (igual al número de qubits requeridos)\n",
    "\n",
    "- reps: número de veces que se repite el circuito del mapa de características\n",
    "\n",
    "- data_map_function: función que codifica los datos clásicos.\n",
    "\n",
    "- entanglement: 'full' o 'linear' o incluso estructura de entrelazamiento propia\n",
    "\n",
    "https://qiskit.org/documentation/stubs/qiskit.circuit.library.ZZFeatureMap.html"
   ]
  },
  {
   "cell_type": "code",
   "execution_count": 7,
   "id": "d4451326-36f3-4851-b193-051888e05fbe",
   "metadata": {},
   "outputs": [
    {
     "data": {
      "image/png": "[encoded data removed]",
      "text/plain": [
       "<Figure size 1290.63x200.667 with 1 Axes>"
      ]
     },
     "execution_count": 7,
     "metadata": {},
     "output_type": "execute_result"
    }
   ],
   "source": [
    "from qiskit.circuit.library import ZZFeatureMap\n",
    "\n",
    "zzfm = ZZFeatureMap(feature_dimension=2, reps=2,entanglement='full')\n",
    "zzfm.decompose().draw('mpl')"
   ]
  },
  {
   "cell_type": "markdown",
   "id": "8bfa60ae-551a-4e6b-84b0-ad0a0bd39e2b",
   "metadata": {},
   "source": [
    "- <b>PauliFeatureMap</b>\n",
    "\n",
    "Forma más general de un mapa de características\n",
    "Permite al usuario crear mapas de características usando diferentes puertas\n",
    "El valor predeterminado es ['Z', 'ZZ'], que es equivalente a ZZFeatureMap.\n",
    "\n",
    "<b>Argumentos</b>\n",
    "\n",
    "- feature_dimensions: dimensionalidad de los datos clásicos (igual al número de qubits requeridos)\n",
    "\n",
    "- reps: número de veces que se repite el circuito del mapa de características\n",
    "\n",
    "- data_map_function: función que codifica los datos clásicos.\n",
    "\n",
    "- entanglement: conectividad 'full' o 'linear' o define su propia estructura de entrelazamiento\n",
    "\n",
    "- paulis: lista de cadenas de pauli\n",
    "\n",
    "https://qiskit.org/documentation/stubs/qiskit.circuit.library.PauliFeatureMap.html"
   ]
  },
  {
   "cell_type": "code",
   "execution_count": 8,
   "id": "3e3480b4-838a-4058-98d9-3c473c8e1098",
   "metadata": {},
   "outputs": [
    {
     "data": {
      "image/png": "[encoded data removed]",
      "text/plain": [
       "<Figure size 705.35x200.667 with 1 Axes>"
      ]
     },
     "execution_count": 8,
     "metadata": {},
     "output_type": "execute_result"
    }
   ],
   "source": [
    "from qiskit.circuit.library import PauliFeatureMap\n",
    "pfm = PauliFeatureMap(2, reps=1)\n",
    "pfm.decompose().draw('mpl')"
   ]
  },
  {
   "cell_type": "markdown",
   "id": "8aea1837-1683-4fa5-a73b-854c8fdb5726",
   "metadata": {},
   "source": [
    "\n",
    "<b> Nota: </b>\n",
    "También se pueden crear mapas de funciones personalizados utilizando la biblioteca NLocal y TwoLocal de Qiskit.\n",
    "\n",
    "<b>En el resto del jupyter se hará uso del ZZFeatureMap con la configuración `zzfm` definida anteriormente.</b>"
   ]
  },
  {
   "cell_type": "markdown",
   "id": "391aaa10-64d9-4b98-a4d4-550ace968f0b",
   "metadata": {},
   "source": [
    "### Problema de QClasificación"
   ]
  },
  {
   "cell_type": "markdown",
   "id": "0305317e-1e56-424e-ad03-5d6fb0d160fb",
   "metadata": {},
   "source": [
    "Aclarados estos importantes aspectos previos, se puede ya plantear un sencillo problema de clasificación cuántica con un data set adhoc.\n"
   ]
  },
  {
   "cell_type": "code",
   "execution_count": 9,
   "id": "8152e7ed-9308-4168-9879-a910df10ea8a",
   "metadata": {},
   "outputs": [],
   "source": [
    "from qiskit.algorithms.optimizers import COBYLA\n",
    "from qiskit.circuit.library import TwoLocal, ZZFeatureMap\n",
    "from qiskit.utils import algorithm_globals\n",
    "\n",
    "from qiskit_machine_learning.algorithms import VQC\n",
    "from qiskit_machine_learning.datasets import ad_hoc_data\n"
   ]
  },
  {
   "cell_type": "markdown",
   "id": "65fbba80-9304-40fa-9581-7974f92be175",
   "metadata": {},
   "source": [
    "#### Dataset `ad_hoc_data`\n",
    "\n",
    "ad_hoc_data() es una clase para generar datasets de n features y etiquetas binarias.\n",
    "\n",
    "<b>Parámetros configurables </b>\n",
    "\n",
    "- feature_dim = c ; columnas de features del dataset; se generan otras tantas para labels.\n",
    "\n",
    "- training_size = tr ; número de datapoints para entrenamiento\n",
    "- test_size = ts : número de datapoints para test\n",
    "- etiquetas:  se usa codificación one hot\n"
   ]
  },
  {
   "cell_type": "code",
   "execution_count": 10,
   "id": "37a825fb-dcd1-4a93-94ca-4d26a56fc9ee",
   "metadata": {},
   "outputs": [],
   "source": [
    "# DATASET SET>UP\n",
    "\n",
    "# seed que garantiza repetibilidad. \n",
    "\n",
    "seed = 1376\n",
    "algorithm_globals.random_seed = seed\n",
    "\n",
    "# data-set conf\n",
    "\n",
    "feature_dim = 2  # datapoint de dim 2\n",
    "training_size = 80 # 80 datapoints para entrena. (longitud 2*80 \n",
    "test_size = 10 # 10 datapoints para test (longitud 2*80)\n",
    "\n",
    "training_features, training_labels, test_features, test_labels = ad_hoc_data(\n",
    "    training_size=training_size, test_size=test_size, n=feature_dim, gap=0.3\n",
    ")\n"
   ]
  },
  {
   "cell_type": "markdown",
   "id": "ba3f1cbb-744f-4c7c-8bdf-5a50410167e7",
   "metadata": {},
   "source": [
    "### Circuito ansatz variacional Twolocal con ZZFeatureMap\n",
    "\n",
    "Decidida la vital cuestión de la elección y configuración del FeatureMap para la cuantificación del dataset, hay que decidir el circuito variacional que el clasificador cuántico usará para el fiting del modelo, permitiéndole variar los parámetros del array entrelazado de puertas de fase.\n",
    "\n",
    "Este array de puertas será el Twolocal, muy usado también en problemas VQE.\n",
    "\n",
    "https://qiskit.org/documentation/stubs/qiskit.circuit.library.TwoLocal.html"
   ]
  },
  {
   "cell_type": "code",
   "execution_count": 11,
   "id": "a2c9c151-d0cc-4a45-8726-b00d857777e6",
   "metadata": {},
   "outputs": [
    {
     "data": {
      "image/png": "[encoded data removed]",
      "text/plain": [
       "<Figure size 1039.79x200.667 with 1 Axes>"
      ]
     },
     "execution_count": 11,
     "metadata": {},
     "output_type": "execute_result"
    }
   ],
   "source": [
    "#ansatz variacional de 3 capas con puertas Ry, Rz param. y entrelazado CZ\n",
    "\n",
    "feature_map = zzfm\n",
    "\n",
    "ansatz = TwoLocal(feature_map.num_qubits, [\"ry\", \"rz\"], \"cz\", reps=3)\n",
    "\n",
    "ansatz.decompose().draw('mpl')"
   ]
  },
  {
   "cell_type": "markdown",
   "id": "ef0097d5-9c17-40d9-9b69-e4bf321c46dc",
   "metadata": {},
   "source": [
    "### Clasificador cuántico variacional, VQC\n",
    "\n",
    "Este clasificador tiene un esquema de parametrización muy similar al de cualquier otro algoritmo clásico de ML.\n",
    "\n",
    "- indicación del train set: \n",
    "- función de coste: ansatz\n",
    "- optimizador: un algoritmo clásico,p.e., COBYLA"
   ]
  },
  {
   "cell_type": "code",
   "execution_count": 12,
   "id": "38a18841-c880-474f-b5ad-0ffaa214b598",
   "metadata": {},
   "outputs": [],
   "source": [
    "vqc = VQC(\n",
    "    feature_map=feature_map,\n",
    "    ansatz=ansatz,\n",
    "    optimizer=COBYLA(maxiter=100),\n",
    ")\n"
   ]
  },
  {
   "cell_type": "markdown",
   "id": "73b20ebc-c840-46e2-b744-a5f93767281a",
   "metadata": {},
   "source": [
    "#### Fitting"
   ]
  },
  {
   "cell_type": "code",
   "execution_count": 13,
   "id": "cbbbae88-03cf-4406-b0fe-0093423b3bb2",
   "metadata": {},
   "outputs": [
    {
     "data": {
      "text/plain": [
       "<qiskit_machine_learning.algorithms.classifiers.vqc.VQC at 0x7fb2d89fe020>"
      ]
     },
     "execution_count": 13,
     "metadata": {},
     "output_type": "execute_result"
    }
   ],
   "source": [
    "vqc.fit(training_features, training_labels)\n"
   ]
  },
  {
   "cell_type": "markdown",
   "id": "09a0638d-10fd-4388-87ec-6382183614a3",
   "metadata": {},
   "source": [
    "#### Scoring"
   ]
  },
  {
   "cell_type": "code",
   "execution_count": 14,
   "id": "a6d8d7a8-20eb-4d71-afc1-423ff2570d76",
   "metadata": {},
   "outputs": [
    {
     "name": "stdout",
     "output_type": "stream",
     "text": [
      "Testing accuracy: 0.95\n"
     ]
    }
   ],
   "source": [
    "score = vqc.score(test_features, test_labels)\n",
    "\n",
    "print(f\"Testing accuracy: {score:0.2f}\")"
   ]
  }
 ],
 "metadata": {
  "kernelspec": {
   "display_name": "Python 3 (ipykernel)",
   "language": "python",
   "name": "python3"
  },
  "language_info": {
   "codemirror_mode": {
    "name": "ipython",
    "version": 3
   },
   "file_extension": ".py",
   "mimetype": "text/x-python",
   "name": "python",
   "nbconvert_exporter": "python",
   "pygments_lexer": "ipython3",
   "version": "3.10.11"
  }
 },
 "nbformat": 4,
 "nbformat_minor": 5
}
